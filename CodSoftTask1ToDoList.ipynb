{
 "cells": [
  {
   "cell_type": "markdown",
   "id": "e1a61b83-ebab-4a5a-883b-464c60020829",
   "metadata": {},
   "source": [
    "## Creating a simple To-Do List application using Tkinter in Python"
   ]
  },
  {
   "cell_type": "code",
   "execution_count": 1,
   "id": "9d92d1c5-4b1b-4bbe-b9ef-145b9c8faa71",
   "metadata": {},
   "outputs": [],
   "source": [
    "import tkinter as tk\n",
    "from tkinter import*\n",
    "from tkinter.font import Font"
   ]
  },
  {
   "cell_type": "code",
   "execution_count": 2,
   "id": "57a42b93-9d55-49ca-a728-6f77f91e0248",
   "metadata": {},
   "outputs": [],
   "source": [
    "root = tk.Tk()\n",
    "root.title(string=\"To-Do List\" )\n",
    "root.geometry (\"650x410+300+150\")\n",
    "frame=LabelFrame(root,text=\"To-Do List\",bg=\"Orange\",font=(20))\n",
    "frame.pack(expand=True,fill=BOTH)"
   ]
  },
  {
   "cell_type": "code",
   "execution_count": 3,
   "id": "14067477-578f-45e4-9d7d-83662c501f6f",
   "metadata": {},
   "outputs": [],
   "source": [
    "#Font\n",
    "my_font = Font(\n",
    "    family=\"Arial\",\n",
    "    size=20,\n",
    "    weight=\"bold\")"
   ]
  },
  {
   "cell_type": "code",
   "execution_count": 4,
   "id": "d5ea1803-6ed4-44f2-a7e5-f4de7c94d4d5",
   "metadata": {},
   "outputs": [],
   "source": [
    "#creating frame\n",
    "frame = tk.Frame(root)\n",
    "frame.pack(pady=10)"
   ]
  },
  {
   "cell_type": "code",
   "execution_count": 5,
   "id": "bc26e1d4-92c1-4f74-be06-e04622dc7787",
   "metadata": {},
   "outputs": [],
   "source": [
    "#creating listbox\n",
    "my_list = Listbox(frame,\n",
    "                  font=my_font,\n",
    "                  width= 25 ,\n",
    "                  height= 5 ,\n",
    "                  bg=\"Black\" ,\n",
    "                  bd=0,\n",
    "                  fg=\"Orange\",\n",
    "                  highlightthickness=10,\n",
    "                  selectbackground=\"BLUE\",\n",
    "                  activestyle=\"none\")"
   ]
  },
  {
   "cell_type": "code",
   "execution_count": 6,
   "id": "ac2ed903-bab4-48f2-ad22-be342f7e2ba3",
   "metadata": {},
   "outputs": [],
   "source": [
    "my_list.pack(side=LEFT , fill=BOTH)"
   ]
  },
  {
   "cell_type": "code",
   "execution_count": 7,
   "id": "6406fb65-fe60-4c1b-8260-379b30165dc1",
   "metadata": {},
   "outputs": [],
   "source": [
    "# Creating scrollbar\n",
    "my_scrollbar = tk.Scrollbar(frame)\n",
    "my_scrollbar.pack(side=tk.RIGHT , fill=tk.BOTH)"
   ]
  },
  {
   "cell_type": "code",
   "execution_count": 8,
   "id": "9b94ee4e-e499-4f38-a4b6-00208a7dc481",
   "metadata": {},
   "outputs": [],
   "source": [
    "#adding  scrollbar\n",
    "my_list.config(yscrollcommand=my_scrollbar.set)\n",
    "my_scrollbar.config(command=my_list.yview())"
   ]
  },
  {
   "cell_type": "code",
   "execution_count": 9,
   "id": "774c1713-0e87-4c91-9071-b38d1550cbc3",
   "metadata": {},
   "outputs": [],
   "source": [
    "# Create entry box to add item to the list\n",
    "my_entry =tk.Entry(root, font=(\"Helvetica\",20))\n",
    "my_entry.pack(pady=25)"
   ]
  },
  {
   "cell_type": "code",
   "execution_count": 10,
   "id": "c1cf41e9-7cf3-4de6-b8f0-c62279fbd13f",
   "metadata": {},
   "outputs": [],
   "source": [
    "# Creating button frame\n",
    "button_frame = Frame(root)\n",
    "button_frame.pack(pady=20)"
   ]
  },
  {
   "cell_type": "code",
   "execution_count": 11,
   "id": "5430793d-f995-4421-b31c-a616d5a7ae64",
   "metadata": {},
   "outputs": [],
   "source": [
    "# Functions\n",
    "def delete_items():\n",
    "    my_list.delete(ANCHOR)\n",
    "def add_items():\n",
    "    my_list.insert(END , my_entry.get())\n",
    "    my_entry.delete(0,END)\n",
    "def cross_items():\n",
    "    my_list.itemconfig(\n",
    "        my_list.curselection(),\n",
    "        fg=\"#D3D3D3\")"
   ]
  },
  {
   "cell_type": "code",
   "execution_count": 12,
   "id": "1c3cc201-dde9-4715-9b45-9b3dbe05b524",
   "metadata": {},
   "outputs": [],
   "source": [
    "def delete_crossed_items():\n",
    "    count=0\n",
    "    while count < my_list.size():\n",
    "        if my_list.itemcget(count,\"fg\") == \"#D3D3D3\":\n",
    "            my_list.delete(count)\n",
    "        else:\n",
    "            count += 1"
   ]
  },
  {
   "cell_type": "code",
   "execution_count": 13,
   "id": "97c1c9e0-124e-476b-995c-9ac422971f62",
   "metadata": {},
   "outputs": [],
   "source": [
    "# Adding buttons\n",
    "delete_button = Button(button_frame,text=\"Delete item\", command=delete_items)\n",
    "add_button = Button(button_frame,text=\"Add item\", command=add_items)\n",
    "cross_items_button =Button(button_frame,text=\"Cross item\", command=cross_items)\n",
    "delete_crossed_items_button =Button(button_frame,text=\"Delete Cross item\", command=delete_crossed_items)\n"
   ]
  },
  {
   "cell_type": "code",
   "execution_count": 14,
   "id": "22b2eb61-85b2-4408-9ad7-3a2d0b1eb022",
   "metadata": {},
   "outputs": [],
   "source": [
    "delete_button.grid(row=0 , column=0)\n",
    "add_button.grid(row=0 , column=1 , padx=20)\n",
    "cross_items_button.grid(row=0 , column=2)\n",
    "delete_crossed_items_button.grid(row=0 , column=4 ,padx=20)"
   ]
  },
  {
   "cell_type": "code",
   "execution_count": null,
   "id": "430aaa4e-d978-4a11-856c-3d277e5f8f08",
   "metadata": {},
   "outputs": [],
   "source": [
    "root.mainloop()"
   ]
  },
  {
   "cell_type": "code",
   "execution_count": null,
   "id": "c272a2c9-a0e1-4d71-bd61-20cf66b3fcd6",
   "metadata": {},
   "outputs": [],
   "source": []
  }
 ],
 "metadata": {
  "kernelspec": {
   "display_name": "Python 3 (ipykernel)",
   "language": "python",
   "name": "python3"
  },
  "language_info": {
   "codemirror_mode": {
    "name": "ipython",
    "version": 3
   },
   "file_extension": ".py",
   "mimetype": "text/x-python",
   "name": "python",
   "nbconvert_exporter": "python",
   "pygments_lexer": "ipython3",
   "version": "3.9.13"
  }
 },
 "nbformat": 4,
 "nbformat_minor": 5
}
